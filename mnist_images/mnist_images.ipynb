{
 "cells": [
  {
   "cell_type": "code",
   "execution_count": 1,
   "metadata": {},
   "outputs": [],
   "source": [
    "import numpy as np\n",
    "import os\n",
    "from sklearn.datasets import fetch_openml\n",
    "from sklearn.linear_model import SGDClassifier\n",
    "from sklearn.svm import SVC\n",
    "from sklearn.preprocessing import StandardScaler\n",
    "from sklearn.model_selection import cross_val_predict\n",
    "from sklearn.metrics import accuracy_score\n",
    "from sklearn.neighbors import KNeighborsClassifier\n",
    "from scipy.ndimage.interpolation import shift, rotate"
   ]
  },
  {
   "cell_type": "code",
   "execution_count": 41,
   "metadata": {},
   "outputs": [],
   "source": [
    "np.random.seed(42)\n",
    "split_num = 60000"
   ]
  },
  {
   "cell_type": "code",
   "execution_count": 2,
   "metadata": {},
   "outputs": [],
   "source": [
    "def sort_by_target(mnist):\n",
    "    reorder_train = np.array(sorted([(target, i) for i, target in enumerate(mnist.target[:split_num])]))[:, 1]\n",
    "    reorder_test = np.array(sorted([(target, i) for i, target in enumerate(mnist.target[split_num:])]))[:, 1]\n",
    "    mnist.data[:split_num] = mnist.data[reorder_train]\n",
    "    mnist.target[:split_num] = mnist.target[reorder_train]\n",
    "    mnist.data[split_num:] = mnist.data[reorder_test + split_num]\n",
    "    mnist.target[split_num:] = mnist.target[reorder_test + split_num]"
   ]
  },
  {
   "cell_type": "code",
   "execution_count": 3,
   "metadata": {},
   "outputs": [],
   "source": [
    "# Fetch and sort data\n",
    "mnist = fetch_openml('mnist_784', version=1, cache=True)\n",
    "mnist.target = mnist.target.astype(np.int8)\n",
    "sort_by_target(mnist)"
   ]
  },
  {
   "cell_type": "code",
   "execution_count": 4,
   "metadata": {},
   "outputs": [],
   "source": [
    "X = mnist[\"data\"]\n",
    "y = mnist[\"target\"]"
   ]
  },
  {
   "cell_type": "code",
   "execution_count": 5,
   "metadata": {},
   "outputs": [],
   "source": [
    "# Split data into train and test sets\n",
    "X_train, X_test, y_train, y_test = X[:split_num], X[split_num:], y[:split_num], y[split_num:]\n",
    "shuffle_index = np.random.permutation(split_num)\n",
    "X_train = X_train[shuffle_index]\n",
    "y_train = y_train[shuffle_index]"
   ]
  },
  {
   "cell_type": "code",
   "execution_count": 16,
   "metadata": {},
   "outputs": [],
   "source": [
    "# Params from previous grid search\n",
    "knn_params = {\n",
    "    'n_neighbors': 4,\n",
    "    'weights': 'distance'\n",
    "}"
   ]
  },
  {
   "cell_type": "code",
   "execution_count": 11,
   "metadata": {},
   "outputs": [
    {
     "data": {
      "text/plain": [
       "KNeighborsClassifier(n_neighbors=4, weights='distance')"
      ]
     },
     "execution_count": 11,
     "metadata": {},
     "output_type": "execute_result"
    }
   ],
   "source": [
    "# Fit KNN without augmented data for comparison\n",
    "knn = KNeighborsClassifier(**knn_params)\n",
    "knn.fit(X_train, y_train)"
   ]
  },
  {
   "cell_type": "code",
   "execution_count": 12,
   "metadata": {},
   "outputs": [
    {
     "name": "stdout",
     "output_type": "stream",
     "text": [
      "Accuracy without augmentation: 0.9714\n"
     ]
    }
   ],
   "source": [
    "y_pred = knn.predict(X_test)\n",
    "accuracy = accuracy_score(y_test, y_pred)\n",
    "print(f'Accuracy without augmentation: {accuracy}')"
   ]
  },
  {
   "cell_type": "code",
   "execution_count": 32,
   "metadata": {},
   "outputs": [],
   "source": [
    "# Helper functions for shifting and rotating images\n",
    "def shift_image(image, dx, dy):\n",
    "    image = image.reshape((28, 28))\n",
    "    shifted_image = shift(image, [dy, dx], cval=0, mode=\"constant\")\n",
    "    return shifted_image.reshape([-1])\n",
    "\n",
    "def rotate_image(image, deg):\n",
    "    image = image.reshape((28, 28))\n",
    "    rotated_image = rotate(image, deg, cval=0, mode=\"constant\")\n",
    "    return rotated_image.reshape([-1])"
   ]
  },
  {
   "cell_type": "code",
   "execution_count": 33,
   "metadata": {},
   "outputs": [],
   "source": [
    "# Convert to python list for easy manipulation\n",
    "X_train_aug_list = [image for image in X_train]\n",
    "y_train_aug_list = [label for label in y_train]\n",
    "\n",
    "pxl_amt = 1\n",
    "shift_vals = ((pxl_amt, 0), (-pxl_amt, 0), (0, pxl_amt), (0, -pxl_amt))\n",
    "rotate_vals = [90, 180, 270]\n",
    "\n",
    "# Loop through all training data, adding shifted and rotate images to the dataset\n",
    "for image, label in zip(X_train, y_train):\n",
    "    for dx, dy in shift_vals:\n",
    "        X_train_aug_list.append(shift_image(image, dx, dy))\n",
    "        y_train_aug_list.append(label)\n",
    "    for deg in rotate_vals:\n",
    "        X_train_aug_list.append(rotate_image(image, deg))\n",
    "        y_train_aug_list.append(label)\n",
    "\n",
    "# Convert back to numpy array\n",
    "X_train_aug = np.array(X_train_aug_list)\n",
    "y_train_aug = np.array(y_train_aug_list)"
   ]
  },
  {
   "cell_type": "code",
   "execution_count": 37,
   "metadata": {},
   "outputs": [
    {
     "data": {
      "text/plain": [
       "KNeighborsClassifier(n_neighbors=4, weights='distance')"
      ]
     },
     "execution_count": 37,
     "metadata": {},
     "output_type": "execute_result"
    }
   ],
   "source": [
    "# Fit KNN with augmented data\n",
    "knn_aug = KNeighborsClassifier(**knn_params)\n",
    "knn_aug.fit(X_train_aug, y_train_aug)"
   ]
  },
  {
   "cell_type": "code",
   "execution_count": 40,
   "metadata": {},
   "outputs": [
    {
     "name": "stdout",
     "output_type": "stream",
     "text": [
      "Accuracy with augmentation: 0.9721\n"
     ]
    }
   ],
   "source": [
    "y_pred_aug = knn_aug.predict(X_test)\n",
    "accuracy_aug = accuracy_score(y_test, y_pred_aug)\n",
    "print(f'Accuracy with augmentation: {accuracy_aug}')"
   ]
  }
 ],
 "metadata": {
  "kernelspec": {
   "display_name": "Python 3",
   "language": "python",
   "name": "python3"
  },
  "language_info": {
   "codemirror_mode": {
    "name": "ipython",
    "version": 3
   },
   "file_extension": ".py",
   "mimetype": "text/x-python",
   "name": "python",
   "nbconvert_exporter": "python",
   "pygments_lexer": "ipython3",
   "version": "3.8.5"
  }
 },
 "nbformat": 4,
 "nbformat_minor": 4
}
